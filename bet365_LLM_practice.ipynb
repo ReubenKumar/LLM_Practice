{
 "cells": [
  {
   "cell_type": "markdown",
   "id": "77022c68-231c-4923-a3d2-f3b5ba7e889a",
   "metadata": {},
   "source": [
    "# Sports Betting LLM Project"
   ]
  },
  {
   "cell_type": "markdown",
   "id": "46639992-e34a-4a71-90a0-5337c81c7030",
   "metadata": {},
   "source": [
    "This project demonstrates a Retrieval-Augmented Generation (RAG) pipeline using a Large Language Model (LLM). User queries are transformed into embeddings and compared against a vector database of domain-specific documents. The most relevant context is retrieved and supplied to the LLM, which generates a context-aware response."
   ]
  },
  {
   "cell_type": "code",
   "execution_count": 1,
   "id": "a0fd5b68-ad5c-4716-bddc-1c1e8c442cb4",
   "metadata": {},
   "outputs": [
    {
     "name": "stdout",
     "output_type": "stream",
     "text": [
      "(10, 384)\n",
      "tensor([[1.0000, 0.3957, 0.6836, 0.6975, 0.6482, 0.6212, 0.2913, 0.6395, 0.6034,\n",
      "         0.0567],\n",
      "        [0.3957, 1.0000, 0.2532, 0.2427, 0.3728, 0.2448, 0.1973, 0.5112, 0.1304,\n",
      "         0.1327],\n",
      "        [0.6836, 0.2532, 1.0000, 0.5284, 0.4590, 0.4468, 0.2310, 0.4907, 0.5121,\n",
      "         0.0721],\n",
      "        [0.6975, 0.2427, 0.5284, 1.0000, 0.7482, 0.6784, 0.1456, 0.5695, 0.5528,\n",
      "         0.1323],\n",
      "        [0.6482, 0.3728, 0.4590, 0.7482, 1.0000, 0.7185, 0.1578, 0.6741, 0.5619,\n",
      "         0.1942],\n",
      "        [0.6212, 0.2448, 0.4468, 0.6784, 0.7185, 1.0000, 0.0202, 0.5141, 0.5960,\n",
      "         0.0451],\n",
      "        [0.2913, 0.1973, 0.2310, 0.1456, 0.1578, 0.0202, 1.0000, 0.1994, 0.0564,\n",
      "         0.1962],\n",
      "        [0.6395, 0.5112, 0.4907, 0.5695, 0.6741, 0.5141, 0.1994, 1.0000, 0.4282,\n",
      "         0.2323],\n",
      "        [0.6034, 0.1304, 0.5121, 0.5528, 0.5619, 0.5960, 0.0564, 0.4282, 1.0000,\n",
      "         0.0370],\n",
      "        [0.0567, 0.1327, 0.0721, 0.1323, 0.1942, 0.0451, 0.1962, 0.2323, 0.0370,\n",
      "         1.0000]])\n"
     ]
    }
   ],
   "source": [
    "from sentence_transformers import SentenceTransformer\n",
    "# documents to be used for model context.\n",
    "# These documents were created summarising FAQ responses found at bet365 here: https://help.bet365.com/en/technical-support/faqs\n",
    "docs = [\n",
    "    # Technical Support\n",
    "    \"Technical issues on the website may include display problems, deposit/withdrawal issues, login failures, unusual error messages, or unresponsive links. Bet365 provides 24/7 Customer Technical Support to help troubleshoot these issues.\",\n",
    "\n",
    "    # Slow Network or Device Performance\n",
    "    \"For time-critical events such as online poker, slower network speeds or device performance may put users at a disadvantage. Users should ensure their connection and device are optimal.\",\n",
    "\n",
    "    # Assistance for Visual Impairment\n",
    "    \"If you have difficulty viewing pages due to visual impairment, Bet365 encourages you to contact support for assistance.\",\n",
    "\n",
    "    # Online Security - TLS\n",
    "    \"Bet365 uses TLS encryption on all website pages to secure personal and payment information. The padlock symbol in the browser indicates that your data is encrypted.\",\n",
    "\n",
    "    # Online Security - Firewalls\n",
    "    \"Bet365 employs multiple firewalls to prevent unauthorized access to its servers and protect sensitive information.\",\n",
    "\n",
    "    # Online Security - Extra Measures\n",
    "    \"Bet365 operates an ISO/IEC 27001 certified Information Security Management System (ISMS) to ensure confidentiality, integrity, and availability of information. Users can visit www.getsafeonline.org for tips to stay secure online.\",\n",
    "\n",
    "    # Game Won’t Load\n",
    "    \"If a game fails to launch, browser cookie settings may be the cause. Adjust settings in Safari or Chrome to allow cookies, clear browsing data, and reopen the browser to access games.\",\n",
    "\n",
    "    # Waiting to Access App or Website\n",
    "    \"During high traffic periods, Bet365 may limit access and place users in a virtual queue with estimated wait times. The page automatically refreshes, and users will gain access once available.\",\n",
    "\n",
    "    # Safe Sender List\n",
    "    \"To receive important notifications, add Bet365 to your Safe Sender list. Emails are sent from support-eng@customerservice365.com, support-eng@365customerservice.com, and support-eng@customerservices365.com. Promotional emails include an unsubscribe option.\",\n",
    "\n",
    "    # Keep Me Logged In\n",
    "    \"The 'Keep me logged in' feature allows users to access their account without entering login details each time. To enable, select 'Keep me logged in' on the login popup and enter credentials. To disable, log out and re-enter credentials on next access.\"\n",
    "]\n",
    "\n",
    "# Load the pretrained sentence transformer model\n",
    "# all-MiniLM-L6-v2 is a model taken from here: https://huggingface.co/sentence-transformers/all-MiniLM-L6-v2\n",
    "# It maps sentences to a 384-dimensional vector space.\n",
    "model = SentenceTransformer('all-MiniLM-L6-v2')\n",
    "\n",
    "# Calculate the embeddings for the new documents\n",
    "embeddings = model.encode(docs)\n",
    "print(embeddings.shape)\n",
    "# Check the similarity between document embeddings\n",
    "similarity = model.similarity(embeddings,embeddings)\n",
    "print(similarity)"
   ]
  },
  {
   "cell_type": "code",
   "execution_count": 131,
   "id": "d397eee4-598f-4088-8f1e-359d03977142",
   "metadata": {},
   "outputs": [
    {
     "name": "stdout",
     "output_type": "stream",
     "text": [
      "The most relevant document: If a game fails to launch, browser cookie settings may be the cause. Adjust settings in Safari or Chrome to allow cookies, clear browsing data, and reopen the browser to access games.\n"
     ]
    }
   ],
   "source": [
    "import torch\n",
    "\n",
    "#input query and create an embedding for it.\n",
    "query = \"why wont my game load?\"\n",
    "query_embedding = model.encode(query)\n",
    "\n",
    "#use cosine similarity to find which document embedding is most similar to the query embedding.\n",
    "cos_scores = util.cos_sim(query_embedding, embeddings)\n",
    "top_result = torch.argmax(cos_scores)\n",
    "print(\"The most relevant document:\", docs[top_result])\n"
   ]
  },
  {
   "cell_type": "code",
   "execution_count": 134,
   "id": "d4f5071e-9743-4a64-b3e8-8e4d9d8c35ee",
   "metadata": {},
   "outputs": [
    {
     "name": "stderr",
     "output_type": "stream",
     "text": [
      "Device set to use cpu\n"
     ]
    },
    {
     "name": "stdout",
     "output_type": "stream",
     "text": [
      "If a game fails to launch, browser cookie settings may be the cause. Adjust settings in Safari or Chrome to allow cookies, clear browsing data, and reopen the browser to access games.\n"
     ]
    }
   ],
   "source": [
    "#generate an LLM output using the user prompt and the context from the documents.\n",
    "from transformers import pipeline\n",
    "# https://huggingface.co/google/flan-t5-large\n",
    "#text2text takes a text prompt and outputs text using the selected model\n",
    "generator = pipeline(\"text2text-generation\", model=\"google/flan-t5-large\")\n",
    "\n",
    "context = docs[top_result]\n",
    "prompt = f\"You are a customer assistant chatbot. Based on this context: {context}\\n Answer the following qustion in a full sentence with correct grammar:{query}\\n start each sentence with a capital letter\"\n",
    "\n",
    "#generate an output based on the prompt \n",
    "answer = generator(prompt, max_length=200, do_sample=True)\n",
    "print(answer[0]['generated_text'])\n"
   ]
  }
 ],
 "metadata": {
  "kernelspec": {
   "display_name": "Python (base)",
   "language": "python",
   "name": "base"
  },
  "language_info": {
   "codemirror_mode": {
    "name": "ipython",
    "version": 3
   },
   "file_extension": ".py",
   "mimetype": "text/x-python",
   "name": "python",
   "nbconvert_exporter": "python",
   "pygments_lexer": "ipython3",
   "version": "3.13.5"
  }
 },
 "nbformat": 4,
 "nbformat_minor": 5
}
